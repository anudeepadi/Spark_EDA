{
  "cells": [
    {
      "cell_type": "code",
      "execution_count": 1,
      "metadata": {
        "colab": {
          "base_uri": "https://localhost:8080/"
        },
        "id": "ETCPgkjThfwx",
        "outputId": "5a3667af-09cf-4f1f-b10f-b2bec4364662"
      },
      "outputs": [
        {
          "name": "stdout",
          "output_type": "stream",
          "text": [
            "\r0% [Working]\r            \rGet:1 http://security.ubuntu.com/ubuntu bionic-security InRelease [88.7 kB]\n",
            "\r0% [Waiting for headers] [1 InRelease 14.2 kB/88.7 kB 16%] [Connecting to cloud\r                                                                               \rHit:2 http://archive.ubuntu.com/ubuntu bionic InRelease\n",
            "\r0% [1 InRelease 37.3 kB/88.7 kB 42%] [Connected to cloud.r-project.org (108.157\r0% [2 InRelease gpgv 242 kB] [Waiting for headers] [1 InRelease 37.3 kB/88.7 kB\r                                                                               \rGet:3 http://archive.ubuntu.com/ubuntu bionic-updates InRelease [88.7 kB]\n",
            "\r0% [2 InRelease gpgv 242 kB] [3 InRelease 14.2 kB/88.7 kB 16%] [1 InRelease 43.\r0% [2 InRelease gpgv 242 kB] [3 InRelease 27.2 kB/88.7 kB 31%] [Waiting for hea\r                                                                               \rGet:4 https://cloud.r-project.org/bin/linux/ubuntu bionic-cran40/ InRelease [3,626 B]\n",
            "\r0% [2 InRelease gpgv 242 kB] [3 InRelease 38.8 kB/88.7 kB 44%] [4 InRelease 3,6\r0% [2 InRelease gpgv 242 kB] [3 InRelease 38.8 kB/88.7 kB 44%] [Waiting for hea\r                                                                               \rIgn:5 https://developer.download.nvidia.com/compute/machine-learning/repos/ubuntu1804/x86_64  InRelease\n",
            "\r0% [2 InRelease gpgv 242 kB] [3 InRelease 86.6 kB/88.7 kB 98%] [Waiting for hea\r                                                                               \r0% [2 InRelease gpgv 242 kB] [Waiting for headers] [Waiting for headers]\r                                                                        \rHit:6 https://developer.download.nvidia.com/compute/cuda/repos/ubuntu1804/x86_64  InRelease\n",
            "\r0% [2 InRelease gpgv 242 kB] [Waiting for headers] [Waiting for headers]\r                                                                        \rHit:7 https://developer.download.nvidia.com/compute/machine-learning/repos/ubuntu1804/x86_64  Release\n",
            "Get:8 http://archive.ubuntu.com/ubuntu bionic-backports InRelease [83.3 kB]\n",
            "Get:9 http://ppa.launchpad.net/c2d4u.team/c2d4u4.0+/ubuntu bionic InRelease [15.9 kB]\n",
            "Hit:10 http://ppa.launchpad.net/cran/libgit2/ubuntu bionic InRelease\n",
            "Get:11 http://security.ubuntu.com/ubuntu bionic-security/universe amd64 Packages [1,551 kB]\n",
            "Get:12 http://ppa.launchpad.net/deadsnakes/ppa/ubuntu bionic InRelease [15.9 kB]\n",
            "Get:13 http://security.ubuntu.com/ubuntu bionic-security/main amd64 Packages [3,020 kB]\n",
            "Get:14 http://security.ubuntu.com/ubuntu bionic-security/restricted amd64 Packages [1,188 kB]\n",
            "Get:15 http://ppa.launchpad.net/graphics-drivers/ppa/ubuntu bionic InRelease [21.3 kB]\n",
            "Get:16 http://archive.ubuntu.com/ubuntu bionic-updates/restricted amd64 Packages [1,230 kB]\n",
            "Get:17 http://archive.ubuntu.com/ubuntu bionic-updates/universe amd64 Packages [2,329 kB]\n",
            "Get:18 http://archive.ubuntu.com/ubuntu bionic-updates/main amd64 Packages [3,452 kB]\n",
            "Get:20 http://ppa.launchpad.net/c2d4u.team/c2d4u4.0+/ubuntu bionic/main Sources [2,164 kB]\n",
            "Get:21 http://ppa.launchpad.net/c2d4u.team/c2d4u4.0+/ubuntu bionic/main amd64 Packages [1,109 kB]\n",
            "Get:22 http://ppa.launchpad.net/deadsnakes/ppa/ubuntu bionic/main amd64 Packages [44.0 kB]\n",
            "Get:23 http://ppa.launchpad.net/graphics-drivers/ppa/ubuntu bionic/main amd64 Packages [50.8 kB]\n",
            "Fetched 16.5 MB in 5s (3,461 kB/s)\n",
            "Reading package lists... Done\n"
          ]
        }
      ],
      "source": [
        "!apt-get update -y"
      ]
    },
    {
      "cell_type": "code",
      "execution_count": 2,
      "metadata": {
        "id": "cUE0wtK7homw"
      },
      "outputs": [],
      "source": [
        "!apt-get install openjdk-8-jdk-headless -qq > /dev/null"
      ]
    },
    {
      "cell_type": "code",
      "execution_count": 3,
      "metadata": {
        "id": "ZUT3t4tThqwg"
      },
      "outputs": [],
      "source": [
        "!wget -q https://archive.apache.org/dist/spark/spark-3.1.2/spark-3.1.2-bin-hadoop2.7.tgz"
      ]
    },
    {
      "cell_type": "code",
      "execution_count": 4,
      "metadata": {
        "id": "xpIXS5_ahs74"
      },
      "outputs": [],
      "source": [
        "!tar xf spark-3.1.2-bin-hadoop2.7.tgz"
      ]
    },
    {
      "cell_type": "code",
      "execution_count": 5,
      "metadata": {
        "id": "eBBixSo8hvKw"
      },
      "outputs": [],
      "source": [
        "import os\n",
        "os.environ[\"JAVA_HOME\"] = \"/usr/lib/jvm/java-8-openjdk-amd64\"\n",
        "os.environ[\"SPARK_HOME\"] = \"/content/spark-3.1.2-bin-hadoop2.7\""
      ]
    },
    {
      "cell_type": "code",
      "execution_count": 6,
      "metadata": {
        "id": "ufBLouF7hw5w"
      },
      "outputs": [],
      "source": [
        "!pip install -q findspark\n",
        "import findspark\n",
        "findspark.init()"
      ]
    },
    {
      "cell_type": "code",
      "execution_count": 1,
      "metadata": {},
      "outputs": [
        {
          "name": "stdout",
          "output_type": "stream",
          "text": [
            "Requirement already satisfied: pyspark in c:\\users\\anude\\appdata\\local\\programs\\python\\python310\\lib\\site-packages (3.3.0)\n",
            "Requirement already satisfied: py4j==0.10.9.5 in c:\\users\\anude\\appdata\\local\\programs\\python\\python310\\lib\\site-packages (from pyspark) (0.10.9.5)\n"
          ]
        }
      ],
      "source": [
        "! pip install pyspark\n",
        "!pip install gdown"
      ]
    },
    {
      "cell_type": "code",
      "execution_count": 1,
      "metadata": {},
      "outputs": [],
      "source": [
        "import gdown\n",
        "\n",
        "def donwlod_file(url, file_name):\n",
        "    gdown.download(url, file_name, quiet=True, use_cookies=False)"
      ]
    },
    {
      "cell_type": "code",
      "execution_count": 1,
      "metadata": {
        "id": "h6MTa3pZh3F7"
      },
      "outputs": [],
      "source": [
        "from pyspark.sql import SparkSession\n",
        "import pyspark.sql.functions as F\n",
        "from pyspark.sql.types import *\n",
        "from pyspark.sql.functions import *\n",
        "from pyspark.sql import Window\n",
        "from pyspark.sql.functions import col, udf\n",
        "\n",
        "\n",
        "spark = (SparkSession\n",
        ".builder\n",
        ".appName(\"deep\")\n",
        ".getOrCreate())"
      ]
    },
    {
      "cell_type": "code",
      "execution_count": 2,
      "metadata": {
        "id": "n6KuWZKWjCAK"
      },
      "outputs": [],
      "source": [
        "sc = spark.sparkContext"
      ]
    },
    {
      "cell_type": "code",
      "execution_count": 3,
      "metadata": {
        "colab": {
          "base_uri": "https://localhost:8080/"
        },
        "id": "nXc6gkDvjHLQ",
        "outputId": "aa57f8c2-1547-4ace-c67a-057fb929fdfb"
      },
      "outputs": [],
      "source": [
        "path = r\"C:\\Users\\anude\\Downloads\\projects\\internship-tasks\\chess\\chess_wc_history_game_info.csv\"\n",
        "\n",
        "df = spark.read.csv(path, header=True, sep=\",\").cache()"
      ]
    },
    {
      "cell_type": "code",
      "execution_count": 4,
      "metadata": {
        "colab": {
          "base_uri": "https://localhost:8080/",
          "height": 344
        },
        "id": "BnT5bdnZu8MK",
        "outputId": "e7eb0b47-36ae-4086-b1bc-488ad280e583"
      },
      "outputs": [
        {
          "name": "stdout",
          "output_type": "stream",
          "text": [
            "+--------------------+----------+--------+----------+-----------+-----+----------------+----------------+-------+---------+---------+-----------+-----------+---------+----------+----------------+---------+---------------------+---+--------------------+---------------+\n",
            "|             game_id|game_order|   event|      site|date_played|round|           white|           black| result|white_elo|black_elo|white_title|black_title|   winner|winner_elo|           loser|loser_elo|winner_loser_elo_diff|eco|        date_created|tournament_name|\n",
            "+--------------------+----------+--------+----------+-----------+-----+----------------+----------------+-------+---------+---------+-----------+-----------+---------+----------+----------------+---------+---------------------+---+--------------------+---------------+\n",
            "|86e0b7f5-7b94-4ae...|         1|WCh 2021| Dubai UAE| 2021.11.26|    1|Nepomniachtchi,I|       Carlsen,M|1/2-1/2|     2782|     2855|       null|       null|     draw|      null|            draw|     null|                    0|C88|2022-07-22T22:33:...| WorldChamp2021|\n",
            "|dc4a10ab-54cf-49d...|         2|WCh 2021| Dubai UAE| 2021.11.27|    2|       Carlsen,M|Nepomniachtchi,I|1/2-1/2|     2855|     2782|       null|       null|     draw|      null|            draw|     null|                    0|E06|2022-07-22T22:33:...| WorldChamp2021|\n",
            "|f042ca37-8899-488...|         3|WCh 2021| Dubai UAE| 2021.11.28|    3|Nepomniachtchi,I|       Carlsen,M|1/2-1/2|     2782|     2855|       null|       null|     draw|      null|            draw|     null|                    0|C88|2022-07-22T22:33:...| WorldChamp2021|\n",
            "|f70e4bbc-21e3-46f...|         4|WCh 2021| Dubai UAE| 2021.11.30|    4|       Carlsen,M|Nepomniachtchi,I|1/2-1/2|     2855|     2782|       null|       null|     draw|      null|            draw|     null|                    0|C42|2022-07-22T22:33:...| WorldChamp2021|\n",
            "|c941c323-308a-4c8...|         5|WCh 2021| Dubai UAE| 2021.12.01|    5|Nepomniachtchi,I|       Carlsen,M|1/2-1/2|     2782|     2855|       null|       null|     draw|      null|            draw|     null|                    0|C88|2022-07-22T22:33:...| WorldChamp2021|\n",
            "|58e83255-93bb-4d5...|         6|WCh 2021| Dubai UAE| 2021.12.03|    6|       Carlsen,M|Nepomniachtchi,I|    1-0|     2855|     2782|       null|       null|Carlsen,M|      2855|Nepomniachtchi,I|     2782|                   73|D02|2022-07-22T22:33:...| WorldChamp2021|\n",
            "|29181d93-73f4-4fb...|         7|WCh 2021| Dubai UAE| 2021.12.04|    7|Nepomniachtchi,I|       Carlsen,M|1/2-1/2|     2782|     2855|       null|       null|     draw|      null|            draw|     null|                    0|C88|2022-07-22T22:33:...| WorldChamp2021|\n",
            "|8a4ccd8c-d437-429...|         8|WCh 2021| Dubai UAE| 2021.12.05|    8|       Carlsen,M|Nepomniachtchi,I|    1-0|     2855|     2782|       null|       null|Carlsen,M|      2855|Nepomniachtchi,I|     2782|                   73|C43|2022-07-22T22:33:...| WorldChamp2021|\n",
            "|55a122db-27d1-495...|         9|WCh 2021| Dubai UAE| 2021.12.07|    9|Nepomniachtchi,I|       Carlsen,M|    0-1|     2782|     2855|       null|       null|Carlsen,M|      2855|Nepomniachtchi,I|     2782|                   73|A13|2022-07-22T22:33:...| WorldChamp2021|\n",
            "|1f900d18-5ea3-4f4...|        10|WCh 2021| Dubai UAE| 2021.12.08|   10|       Carlsen,M|Nepomniachtchi,I|1/2-1/2|     2855|     2782|       null|       null|     draw|      null|            draw|     null|                    0|C42|2022-07-22T22:33:...| WorldChamp2021|\n",
            "|c512a953-a341-47c...|        11|WCh 2021| Dubai UAE| 2021.12.10|   11|Nepomniachtchi,I|       Carlsen,M|    0-1|     2782|     2855|       null|       null|Carlsen,M|      2855|Nepomniachtchi,I|     2782|                   73|C50|2022-07-22T22:33:...| WorldChamp2021|\n",
            "|99d39a93-427e-4d1...|         1|WCh 2018|London ENG| 2018.11.09|    1|Caruana, Fabiano| Carlsen, Magnus|1/2-1/2|     2832|     2835|         GM|         GM|     draw|      null|            draw|     null|                    0|B31|2022-07-22T22:33:...| WorldChamp2018|\n",
            "|c87ceb3e-67a7-45d...|         2|WCh 2018|London ENG| 2018.11.10|    2| Carlsen, Magnus|Caruana, Fabiano|1/2-1/2|     2835|     2832|         GM|         GM|     draw|      null|            draw|     null|                    0|D37|2022-07-22T22:33:...| WorldChamp2018|\n",
            "|d50510ea-9c1a-460...|         3|WCh 2018|London ENG| 2018.11.12|    3|Caruana, Fabiano| Carlsen, Magnus|1/2-1/2|     2832|     2835|         GM|         GM|     draw|      null|            draw|     null|                    0|B31|2022-07-22T22:33:...| WorldChamp2018|\n",
            "|e899e16a-281e-41b...|         4|WCh 2018|London ENG| 2018.11.13|    4| Carlsen, Magnus|Caruana, Fabiano|1/2-1/2|     2835|     2832|         GM|         GM|     draw|      null|            draw|     null|                    0|A29|2022-07-22T22:33:...| WorldChamp2018|\n",
            "|59f8da88-fd21-405...|         5|WCh 2018|London ENG| 2018.11.15|    5|Caruana, Fabiano| Carlsen, Magnus|1/2-1/2|     2832|     2835|         GM|         GM|     draw|      null|            draw|     null|                    0|B31|2022-07-22T22:33:...| WorldChamp2018|\n",
            "|6dcc4b46-3155-47e...|         6|WCh 2018|London ENG| 2018.11.16|    6| Carlsen, Magnus|Caruana, Fabiano|1/2-1/2|     2835|     2832|         GM|         GM|     draw|      null|            draw|     null|                    0|C42|2022-07-22T22:33:...| WorldChamp2018|\n",
            "|c0c727cf-03ec-4b4...|         7|WCh 2018|London ENG| 2018.11.18|    7| Carlsen, Magnus|Caruana, Fabiano|1/2-1/2|     2835|     2832|         GM|         GM|     draw|      null|            draw|     null|                    0|D37|2022-07-22T22:33:...| WorldChamp2018|\n",
            "|4c14e044-cacc-405...|         8|WCh 2018|London ENG| 2018.11.19|    8|Caruana, Fabiano| Carlsen, Magnus|1/2-1/2|     2832|     2835|         GM|         GM|     draw|      null|            draw|     null|                    0|B33|2022-07-22T22:33:...| WorldChamp2018|\n",
            "|3f4eb26e-3cd1-43b...|         9|WCh 2018|London ENG| 2018.11.21|    9| Carlsen, Magnus|Caruana, Fabiano|1/2-1/2|     2835|     2832|         GM|         GM|     draw|      null|            draw|     null|                    0|A29|2022-07-22T22:33:...| WorldChamp2018|\n",
            "+--------------------+----------+--------+----------+-----------+-----+----------------+----------------+-------+---------+---------+-----------+-----------+---------+----------+----------------+---------+---------------------+---+--------------------+---------------+\n",
            "only showing top 20 rows\n",
            "\n"
          ]
        }
      ],
      "source": [
        "# Create dataframes for each of the datasets. Give proper column names and datatypes. Include basic schema validation. (Refer the schema provided\n",
        "# with the data for reference) Check out spark.read.format from here to create spark dataframe.\n",
        "\n",
        "df.createOrReplaceTempView(\"history_game_info\")\n",
        "df = spark.sql(\"SELECT * FROM history_game_info\")\n",
        "df.show()"
      ]
    },
    {
      "cell_type": "code",
      "execution_count": 5,
      "metadata": {},
      "outputs": [
        {
          "name": "stdout",
          "output_type": "stream",
          "text": [
            "root\n",
            " |-- game_id: string (nullable = true)\n",
            " |-- game_order: string (nullable = true)\n",
            " |-- event: string (nullable = true)\n",
            " |-- site: string (nullable = true)\n",
            " |-- date_played: string (nullable = true)\n",
            " |-- round: string (nullable = true)\n",
            " |-- white: string (nullable = true)\n",
            " |-- black: string (nullable = true)\n",
            " |-- result: string (nullable = true)\n",
            " |-- white_elo: string (nullable = true)\n",
            " |-- black_elo: string (nullable = true)\n",
            " |-- white_title: string (nullable = true)\n",
            " |-- black_title: string (nullable = true)\n",
            " |-- winner: string (nullable = true)\n",
            " |-- winner_elo: string (nullable = true)\n",
            " |-- loser: string (nullable = true)\n",
            " |-- loser_elo: string (nullable = true)\n",
            " |-- winner_loser_elo_diff: string (nullable = true)\n",
            " |-- eco: string (nullable = true)\n",
            " |-- date_created: string (nullable = true)\n",
            " |-- tournament_name: string (nullable = true)\n",
            "\n"
          ]
        }
      ],
      "source": [
        "df.printSchema()"
      ]
    },
    {
      "cell_type": "code",
      "execution_count": 6,
      "metadata": {
        "id": "uSD0UMB8wb6y"
      },
      "outputs": [],
      "source": [
        "df1 = spark.read.csv(r\"C:\\Users\\anude\\Downloads\\projects\\internship-tasks\\chess\\chess_wc_history_moves.csv\", header=True, sep=\",\")"
      ]
    },
    {
      "cell_type": "code",
      "execution_count": 7,
      "metadata": {},
      "outputs": [
        {
          "name": "stdout",
          "output_type": "stream",
          "text": [
            "+--------------------+-------+------------+----------------+--------+----+-----------+---------+-----+-----+--------------------+--------+-------------+--------------+----------------------+------------+------------------------+-----------+-----------+----------------+----------------+-----------------+-----------------+------------------+------------------+------------------+------------------+----------------+----------------+------------------------+------------------------+--------------------+--------------------+--------------------+--------------------+--------------------+--------------------+--------------------+--------------------+--------------------+--------------------+--------------------+--------------------+--------------------+--------------------+--------------------+--------------------+--------------------+--------------------+--------------------+--------------------+--------------------+--------------------+--------------------+--------------------+--------------------+--------------------+--------------------+--------------------+--------------------+--------------------+--------------------+--------------------+--------------------+\n",
            "|             game_id|move_no|move_no_pair|          player|notation|move|from_square|to_square|piece|color|                 fen|is_check|is_check_mate|is_fifty_moves|is_fivefold_repetition|is_game_over|is_insufficient_material|white_count|black_count|white_pawn_count|black_pawn_count|white_queen_count|black_queen_count|white_bishop_count|black_bishop_count|white_knight_count|black_knight_count|white_rook_count|black_rook_count|captured_score_for_white|captured_score_for_black|fen_row1_white_count|fen_row2_white_count|fen_row3_white_count|fen_row4_white_count|fen_row5_white_count|fen_row6_white_count|fen_row7_white_count|fen_row8_white_count|fen_row1_white_value|fen_row2_white_value|fen_row3_white_value|fen_row4_white_value|fen_row5_white_value|fen_row6_white_value|fen_row7_white_value|fen_row8_white_value|fen_row1_black_count|fen_row2_black_count|fen_row3_black_count|fen_row4_black_count|fen_row5_black_count|fen_row6_black_count|fen_row7_black_count|fen_row8_black_count|fen_row1_black_value|fen_row2_black_value|fen_row3_black_value|fen_row4_black_value|fen_row5_black_value|fen_row6_black_value|fen_row7_black_value|fen_row8_black_value|       move_sequence|\n",
            "+--------------------+-------+------------+----------------+--------+----+-----------+---------+-----+-----+--------------------+--------+-------------+--------------+----------------------+------------+------------------------+-----------+-----------+----------------+----------------+-----------------+-----------------+------------------+------------------+------------------+------------------+----------------+----------------+------------------------+------------------------+--------------------+--------------------+--------------------+--------------------+--------------------+--------------------+--------------------+--------------------+--------------------+--------------------+--------------------+--------------------+--------------------+--------------------+--------------------+--------------------+--------------------+--------------------+--------------------+--------------------+--------------------+--------------------+--------------------+--------------------+--------------------+--------------------+--------------------+--------------------+--------------------+--------------------+--------------------+--------------------+--------------------+\n",
            "|86e0b7f5-7b94-4ae...|      1|           1|Nepomniachtchi,I|      e4|e2e4|         e2|       e4|    P|White|rnbqkbnr/pppppppp...|       0|            0|             0|                     0|           0|                       0|         16|         16|               8|               8|                1|                1|                 2|                 2|                 2|                 2|               2|               2|                       0|                       0|                   8|                   7|                   0|                   1|                   0|                   0|                   0|                   0|                  31|                   7|                   0|                   1|                   0|                   0|                   0|                   0|                   0|                   0|                   0|                   0|                   0|                   0|                   8|                   8|                   0|                   0|                   0|                   0|                   0|                   0|                   8|                  31|                  e4|\n",
            "|86e0b7f5-7b94-4ae...|      2|           1|       Carlsen,M|      e5|e7e5|         e7|       e5|    P|Black|rnbqkbnr/pppp1ppp...|       0|            0|             0|                     0|           0|                       0|         16|         16|               8|               8|                1|                1|                 2|                 2|                 2|                 2|               2|               2|                       0|                       0|                   8|                   7|                   0|                   1|                   0|                   0|                   0|                   0|                  31|                   7|                   0|                   1|                   0|                   0|                   0|                   0|                   0|                   0|                   0|                   0|                   1|                   0|                   7|                   8|                   0|                   0|                   0|                   0|                   1|                   0|                   7|                  31|               e4|e5|\n",
            "|86e0b7f5-7b94-4ae...|      3|           2|Nepomniachtchi,I|     Nf3|g1f3|         g1|       f3|    N|White|rnbqkbnr/pppp1ppp...|       0|            0|             0|                     0|           0|                       0|         16|         16|               8|               8|                1|                1|                 2|                 2|                 2|                 2|               2|               2|                       0|                       0|                   7|                   7|                   1|                   1|                   0|                   0|                   0|                   0|                  28|                   7|                   3|                   1|                   0|                   0|                   0|                   0|                   0|                   0|                   0|                   0|                   1|                   0|                   7|                   8|                   0|                   0|                   0|                   0|                   1|                   0|                   7|                  31|           e4|e5|Nf3|\n",
            "|86e0b7f5-7b94-4ae...|      4|           2|       Carlsen,M|     Nc6|b8c6|         b8|       c6|    N|Black|r1bqkbnr/pppp1ppp...|       0|            0|             0|                     0|           0|                       0|         16|         16|               8|               8|                1|                1|                 2|                 2|                 2|                 2|               2|               2|                       0|                       0|                   7|                   7|                   1|                   1|                   0|                   0|                   0|                   0|                  28|                   7|                   3|                   1|                   0|                   0|                   0|                   0|                   0|                   0|                   0|                   0|                   1|                   1|                   7|                   7|                   0|                   0|                   0|                   0|                   1|                   3|                   7|                  28|       e4|e5|Nf3|Nc6|\n",
            "|86e0b7f5-7b94-4ae...|      5|           3|Nepomniachtchi,I|     Bb5|f1b5|         f1|       b5|    B|White|r1bqkbnr/pppp1ppp...|       0|            0|             0|                     0|           0|                       0|         16|         16|               8|               8|                1|                1|                 2|                 2|                 2|                 2|               2|               2|                       0|                       0|                   6|                   7|                   1|                   1|                   1|                   0|                   0|                   0|                  25|                   7|                   3|                   1|                   3|                   0|                   0|                   0|                   0|                   0|                   0|                   0|                   1|                   1|                   7|                   7|                   0|                   0|                   0|                   0|                   1|                   3|                   7|                  28|   e4|e5|Nf3|Nc6|Bb5|\n",
            "|86e0b7f5-7b94-4ae...|      6|           3|       Carlsen,M|      a6|a7a6|         a7|       a6|    P|Black|r1bqkbnr/1ppp1ppp...|       0|            0|             0|                     0|           0|                       0|         16|         16|               8|               8|                1|                1|                 2|                 2|                 2|                 2|               2|               2|                       0|                       0|                   6|                   7|                   1|                   1|                   1|                   0|                   0|                   0|                  25|                   7|                   3|                   1|                   3|                   0|                   0|                   0|                   0|                   0|                   0|                   0|                   1|                   2|                   6|                   7|                   0|                   0|                   0|                   0|                   1|                   4|                   6|                  28|e4|e5|Nf3|Nc6|Bb5|a6|\n",
            "|86e0b7f5-7b94-4ae...|      7|           4|Nepomniachtchi,I|     Ba4|b5a4|         b5|       a4|    B|White|r1bqkbnr/1ppp1ppp...|       0|            0|             0|                     0|           0|                       0|         16|         16|               8|               8|                1|                1|                 2|                 2|                 2|                 2|               2|               2|                       0|                       0|                   6|                   7|                   1|                   2|                   0|                   0|                   0|                   0|                  25|                   7|                   3|                   4|                   0|                   0|                   0|                   0|                   0|                   0|                   0|                   0|                   1|                   2|                   6|                   7|                   0|                   0|                   0|                   0|                   1|                   4|                   6|                  28|e4|e5|Nf3|Nc6|Bb5...|\n",
            "|86e0b7f5-7b94-4ae...|      8|           4|       Carlsen,M|     Nf6|g8f6|         g8|       f6|    N|Black|r1bqkb1r/1ppp1ppp...|       0|            0|             0|                     0|           0|                       0|         16|         16|               8|               8|                1|                1|                 2|                 2|                 2|                 2|               2|               2|                       0|                       0|                   6|                   7|                   1|                   2|                   0|                   0|                   0|                   0|                  25|                   7|                   3|                   4|                   0|                   0|                   0|                   0|                   0|                   0|                   0|                   0|                   1|                   3|                   6|                   6|                   0|                   0|                   0|                   0|                   1|                   7|                   6|                  25|e4|e5|Nf3|Nc6|Bb5...|\n",
            "|86e0b7f5-7b94-4ae...|      9|           5|Nepomniachtchi,I|     O-O|e1g1|         e1|       g1|    K|White|r1bqkb1r/1ppp1ppp...|       0|            0|             0|                     0|           0|                       0|         16|         16|               8|               8|                1|                1|                 2|                 2|                 2|                 2|               2|               2|                       0|                       0|                   6|                   7|                   1|                   2|                   0|                   0|                   0|                   0|                  25|                   7|                   3|                   4|                   0|                   0|                   0|                   0|                   0|                   0|                   0|                   0|                   1|                   3|                   6|                   6|                   0|                   0|                   0|                   0|                   1|                   7|                   6|                  25|e4|e5|Nf3|Nc6|Bb5...|\n",
            "|86e0b7f5-7b94-4ae...|     10|           5|       Carlsen,M|     Be7|f8e7|         f8|       e7|    B|Black|r1bqk2r/1pppbppp/...|       0|            0|             0|                     0|           0|                       0|         16|         16|               8|               8|                1|                1|                 2|                 2|                 2|                 2|               2|               2|                       0|                       0|                   6|                   7|                   1|                   2|                   0|                   0|                   0|                   0|                  25|                   7|                   3|                   4|                   0|                   0|                   0|                   0|                   0|                   0|                   0|                   0|                   1|                   3|                   7|                   5|                   0|                   0|                   0|                   0|                   1|                   7|                   9|                  22|e4|e5|Nf3|Nc6|Bb5...|\n",
            "|86e0b7f5-7b94-4ae...|     11|           6|Nepomniachtchi,I|     Re1|f1e1|         f1|       e1|    R|White|r1bqk2r/1pppbppp/...|       0|            0|             0|                     0|           0|                       0|         16|         16|               8|               8|                1|                1|                 2|                 2|                 2|                 2|               2|               2|                       0|                       0|                   6|                   7|                   1|                   2|                   0|                   0|                   0|                   0|                  25|                   7|                   3|                   4|                   0|                   0|                   0|                   0|                   0|                   0|                   0|                   0|                   1|                   3|                   7|                   5|                   0|                   0|                   0|                   0|                   1|                   7|                   9|                  22|e4|e5|Nf3|Nc6|Bb5...|\n",
            "|86e0b7f5-7b94-4ae...|     12|           6|       Carlsen,M|      b5|b7b5|         b7|       b5|    P|Black|r1bqk2r/2ppbppp/p...|       0|            0|             0|                     0|           0|                       0|         16|         16|               8|               8|                1|                1|                 2|                 2|                 2|                 2|               2|               2|                       0|                       0|                   6|                   7|                   1|                   2|                   0|                   0|                   0|                   0|                  25|                   7|                   3|                   4|                   0|                   0|                   0|                   0|                   0|                   0|                   0|                   0|                   2|                   3|                   6|                   5|                   0|                   0|                   0|                   0|                   2|                   7|                   8|                  22|e4|e5|Nf3|Nc6|Bb5...|\n",
            "|86e0b7f5-7b94-4ae...|     13|           7|Nepomniachtchi,I|     Bb3|a4b3|         a4|       b3|    B|White|r1bqk2r/2ppbppp/p...|       0|            0|             0|                     0|           0|                       0|         16|         16|               8|               8|                1|                1|                 2|                 2|                 2|                 2|               2|               2|                       0|                       0|                   6|                   7|                   2|                   1|                   0|                   0|                   0|                   0|                  25|                   7|                   6|                   1|                   0|                   0|                   0|                   0|                   0|                   0|                   0|                   0|                   2|                   3|                   6|                   5|                   0|                   0|                   0|                   0|                   2|                   7|                   8|                  22|e4|e5|Nf3|Nc6|Bb5...|\n",
            "|86e0b7f5-7b94-4ae...|     14|           7|       Carlsen,M|     O-O|e8g8|         e8|       g8|    K|Black|r1bq1rk1/2ppbppp/...|       0|            0|             0|                     0|           0|                       0|         16|         16|               8|               8|                1|                1|                 2|                 2|                 2|                 2|               2|               2|                       0|                       0|                   6|                   7|                   2|                   1|                   0|                   0|                   0|                   0|                  25|                   7|                   6|                   1|                   0|                   0|                   0|                   0|                   0|                   0|                   0|                   0|                   2|                   3|                   6|                   5|                   0|                   0|                   0|                   0|                   2|                   7|                   8|                  22|e4|e5|Nf3|Nc6|Bb5...|\n",
            "|86e0b7f5-7b94-4ae...|     15|           8|Nepomniachtchi,I|      h3|h2h3|         h2|       h3|    P|White|r1bq1rk1/2ppbppp/...|       0|            0|             0|                     0|           0|                       0|         16|         16|               8|               8|                1|                1|                 2|                 2|                 2|                 2|               2|               2|                       0|                       0|                   6|                   6|                   3|                   1|                   0|                   0|                   0|                   0|                  25|                   6|                   7|                   1|                   0|                   0|                   0|                   0|                   0|                   0|                   0|                   0|                   2|                   3|                   6|                   5|                   0|                   0|                   0|                   0|                   2|                   7|                   8|                  22|e4|e5|Nf3|Nc6|Bb5...|\n",
            "|86e0b7f5-7b94-4ae...|     16|           8|       Carlsen,M|     Na5|c6a5|         c6|       a5|    N|Black|r1bq1rk1/2ppbppp/...|       0|            0|             0|                     0|           0|                       0|         16|         16|               8|               8|                1|                1|                 2|                 2|                 2|                 2|               2|               2|                       0|                       0|                   6|                   6|                   3|                   1|                   0|                   0|                   0|                   0|                  25|                   6|                   7|                   1|                   0|                   0|                   0|                   0|                   0|                   0|                   0|                   0|                   3|                   2|                   6|                   5|                   0|                   0|                   0|                   0|                   5|                   4|                   8|                  22|e4|e5|Nf3|Nc6|Bb5...|\n",
            "|86e0b7f5-7b94-4ae...|     17|           9|Nepomniachtchi,I|    Nxe5|f3e5|         f3|       e5|    N|White|r1bq1rk1/2ppbppp/...|       0|            0|             0|                     0|           0|                       0|         16|         15|               8|               7|                1|                1|                 2|                 2|                 2|                 2|               2|               2|                       1|                       0|                   6|                   6|                   2|                   1|                   1|                   0|                   0|                   0|                  25|                   6|                   4|                   1|                   3|                   0|                   0|                   0|                   0|                   0|                   0|                   0|                   2|                   2|                   6|                   5|                   0|                   0|                   0|                   0|                   4|                   4|                   8|                  22|e4|e5|Nf3|Nc6|Bb5...|\n",
            "|86e0b7f5-7b94-4ae...|     18|           9|       Carlsen,M|    Nxb3|a5b3|         a5|       b3|    N|Black|r1bq1rk1/2ppbppp/...|       0|            0|             0|                     0|           0|                       0|         15|         15|               8|               7|                1|                1|                 1|                 2|                 2|                 2|               2|               2|                       1|                       3|                   6|                   6|                   1|                   1|                   1|                   0|                   0|                   0|                  25|                   6|                   1|                   1|                   3|                   0|                   0|                   0|                   0|                   0|                   1|                   0|                   1|                   2|                   6|                   5|                   0|                   0|                   3|                   0|                   1|                   4|                   8|                  22|e4|e5|Nf3|Nc6|Bb5...|\n",
            "|86e0b7f5-7b94-4ae...|     19|          10|Nepomniachtchi,I|    axb3|a2b3|         a2|       b3|    P|White|r1bq1rk1/2ppbppp/...|       0|            0|             0|                     0|           0|                       0|         15|         14|               8|               7|                1|                1|                 1|                 2|                 2|                 1|               2|               2|                       4|                       3|                   6|                   5|                   2|                   1|                   1|                   0|                   0|                   0|                  25|                   5|                   2|                   1|                   3|                   0|                   0|                   0|                   0|                   0|                   0|                   0|                   1|                   2|                   6|                   5|                   0|                   0|                   0|                   0|                   1|                   4|                   8|                  22|e4|e5|Nf3|Nc6|Bb5...|\n",
            "|86e0b7f5-7b94-4ae...|     20|          10|       Carlsen,M|     Bb7|c8b7|         c8|       b7|    B|Black|r2q1rk1/1bppbppp/...|       0|            0|             0|                     0|           0|                       0|         15|         14|               8|               7|                1|                1|                 1|                 2|                 2|                 1|               2|               2|                       4|                       3|                   6|                   5|                   2|                   1|                   1|                   0|                   0|                   0|                  25|                   5|                   2|                   1|                   3|                   0|                   0|                   0|                   0|                   0|                   0|                   0|                   1|                   2|                   7|                   4|                   0|                   0|                   0|                   0|                   1|                   4|                  11|                  19|e4|e5|Nf3|Nc6|Bb5...|\n",
            "+--------------------+-------+------------+----------------+--------+----+-----------+---------+-----+-----+--------------------+--------+-------------+--------------+----------------------+------------+------------------------+-----------+-----------+----------------+----------------+-----------------+-----------------+------------------+------------------+------------------+------------------+----------------+----------------+------------------------+------------------------+--------------------+--------------------+--------------------+--------------------+--------------------+--------------------+--------------------+--------------------+--------------------+--------------------+--------------------+--------------------+--------------------+--------------------+--------------------+--------------------+--------------------+--------------------+--------------------+--------------------+--------------------+--------------------+--------------------+--------------------+--------------------+--------------------+--------------------+--------------------+--------------------+--------------------+--------------------+--------------------+--------------------+\n",
            "only showing top 20 rows\n",
            "\n"
          ]
        }
      ],
      "source": [
        "df1.createOrReplaceTempView(\"history_moves\")\n",
        "df1 = spark.sql(\"SELECT * FROM history_moves\")\n",
        "df1.show()"
      ]
    },
    {
      "cell_type": "code",
      "execution_count": 8,
      "metadata": {},
      "outputs": [],
      "source": [
        "df2 = spark.read.csv(r\"C:\\Users\\anude\\Downloads\\projects\\internship-tasks\\chess\\eco_codes.csv\", header=True, sep=\",\")"
      ]
    },
    {
      "cell_type": "code",
      "execution_count": 9,
      "metadata": {},
      "outputs": [
        {
          "name": "stdout",
          "output_type": "stream",
          "text": [
            "+---+--------------------+--------------------+--------+---------+\n",
            "|eco|            eco_name|         eco_example|eco_type|eco_group|\n",
            "+---+--------------------+--------------------+--------+---------+\n",
            "|A00|    Uncommon Opening|  1 g4, a3, h3, etc.|       A|    Flank|\n",
            "|A01|Nimzovich-Larsen ...|                1 b3|       A|    Flank|\n",
            "|A02|      Bird's Opening|                1 f4|       A|    Flank|\n",
            "|A03|      Bird's Opening|             1 f4 d5|       A|    Flank|\n",
            "|A04|        Reti Opening|               1 Nf3|       A|    Flank|\n",
            "|A05|        Reti Opening|           1 Nf3 Nf6|       A|    Flank|\n",
            "|A06|        Reti Opening|            1 Nf3 d5|       A|    Flank|\n",
            "|A07|King's Indian Attack|       1 Nf3 d5 2 g3|       A|    Flank|\n",
            "|A08|King's Indian Attack|1 Nf3 d5 2 g3 c5 ...|       A|    Flank|\n",
            "|A09|        Reti Opening|       1 Nf3 d5 2 c4|       A|    Flank|\n",
            "|A10|             English|                1 c4|       A|    Flank|\n",
            "|A11|English, Caro-Kan...|             1 c4 c6|       A|    Flank|\n",
            "|A12|     English with b3|1 c4 c6 2 Nf3 d5 ...|       A|    Flank|\n",
            "|A13|             English|             1 c4 e6|       A|    Flank|\n",
            "|A14|             English|1 c4 e6 2 Nf3 d5 ...|       A|    Flank|\n",
            "|A15|             English|            1 c4 Nf6|       A|    Flank|\n",
            "|A16|             English|      1 c4 Nf6 2 Nc3|       A|    Flank|\n",
            "|A17|             English|   1 c4 Nf6 2 Nc3 e6|       A|    Flank|\n",
            "|A18|English, Mikenas-...|1 c4 Nf6 2 Nc3 e6...|       A|    Flank|\n",
            "|A19|English, Mikenas-...|1 c4 Nf6 2 Nc3 e6...|       A|    Flank|\n",
            "+---+--------------------+--------------------+--------+---------+\n",
            "only showing top 20 rows\n",
            "\n"
          ]
        }
      ],
      "source": [
        "\n",
        "df2.createOrReplaceTempView(\"eco_codes\")\n",
        "df2 = spark.sql(\"SELECT * FROM eco_codes\")\n",
        "df2.show()"
      ]
    },
    {
      "cell_type": "markdown",
      "metadata": {},
      "source": [
        " 1. List of Winners of Each World champions Trophy Hint: Total Result of all rounds of Tournament for that player is considered as that player's\n",
        " Score/Result.\n",
        " Result attributes: winner, tournament_name"
      ]
    },
    {
      "cell_type": "code",
      "execution_count": 10,
      "metadata": {},
      "outputs": [
        {
          "name": "stdout",
          "output_type": "stream",
          "text": [
            "+------------------+---------------+\n",
            "|            winner|tournament_name|\n",
            "+------------------+---------------+\n",
            "|          Bareev,E|  FideChamp2002|\n",
            "|           Dreev,A|  FideChamp2002|\n",
            "|    Andersson, Ulf|  FideChamp1999|\n",
            "|    Svidler, Peter|  FideChamp1998|\n",
            "|         Ehlvest,J|  FideChamp2002|\n",
            "|         Delchev,A|  FideChamp2004|\n",
            "|      Ponomariov,R|  FideChamp2002|\n",
            "|      Zvjaginsev,V|  FideChamp2002|\n",
            "| Steinitz, William| WorldChamp1890|\n",
            "|          Kudrin,S|  FideChamp2004|\n",
            "|Istratescu, Andrei|  FideChamp1998|\n",
            "|          Sakaev,K|  FideChamp2002|\n",
            "|        Ciuksyte,D|  FideChamp2002|\n",
            "|         Lautier,J|  FideChamp2002|\n",
            "|      Psakhis, Lev|  FideChamp1999|\n",
            "|     Dreev, Alexey|  FideChamp1999|\n",
            "|         Kramnik,V| WorldChamp2006|\n",
            "|     Lautier, Joel|  FideChamp1999|\n",
            "|           Anand,V| WorldChamp2010|\n",
            "|        Nakamura,H|  FideChamp2004|\n",
            "+------------------+---------------+\n",
            "only showing top 20 rows\n",
            "\n"
          ]
        }
      ],
      "source": [
        "# winner = spark.sql(\"SELECT winner, tournament_name FROM history_game_info\")\n",
        "# winner.show()\n",
        "\n",
        "l_data = df.filter(col(\"winner\") != \"draw\").select(\"winner\", \"tournament_name\").drop_duplicates([\"winner\", \"tournament_name\"])\n",
        "l_data.show()\n",
        "l_data.toPandas().to_csv(\"df1.csv\")"
      ]
    },
    {
      "cell_type": "markdown",
      "metadata": {},
      "source": [
        "2. List of Players with number of times they have won Tournament in descending order(Max to min).\n",
        "Result attributes: player_name, number_of_wins"
      ]
    },
    {
      "cell_type": "code",
      "execution_count": 11,
      "metadata": {},
      "outputs": [
        {
          "name": "stdout",
          "output_type": "stream",
          "text": [
            "+--------------------+-----+\n",
            "|              winner|count|\n",
            "+--------------------+-----+\n",
            "|     Lasker, Emanuel|   52|\n",
            "|     Karpov, Anatoly|   47|\n",
            "|  Botvinnik, Mikhail|   46|\n",
            "|   Steinitz, William|   43|\n",
            "| Alekhine, Alexander|   43|\n",
            "|           Topalov,V|   32|\n",
            "|      Kasparov, Gary|   31|\n",
            "|             Anand,V|   30|\n",
            "|    Smyslov, Vassily|   24|\n",
            "|            Adams,Mi|   20|\n",
            "|      Kasimdzhanov,R|   19|\n",
            "|          Grischuk,A|   17|\n",
            "|           Svidler,P|   16|\n",
            "|      Adams, Michael|   16|\n",
            "|            Bareev,E|   15|\n",
            "|            Shirov,A|   15|\n",
            "|             Dreev,A|   15|\n",
            "|   Chigorin, Mikhail|   14|\n",
            "|Khalifman, Alexander|   14|\n",
            "|           Euwe, Max|   14|\n",
            "+--------------------+-----+\n",
            "only showing top 20 rows\n",
            "\n"
          ]
        }
      ],
      "source": [
        "# player_wins = spark.sql(\"SELECT winner as player_name, count(winner) as number_of_wins FROM history_game_info GROUP BY winner ORDER BY number_of_wins DESC\")\n",
        "# player_wins.show()\n",
        "\n",
        "no_of_times = df.filter(col(\"winner\") != \"draw\").select(\"winner\", \"tournament_name\").groupBy(\"winner\").count().orderBy(\"count\", ascending=False)\n",
        "no_of_times.show()\n",
        "no_of_times.toPandas().to_csv(\"df2.csv\")"
      ]
    },
    {
      "cell_type": "markdown",
      "metadata": {},
      "source": [
        "3. Most and Least Popular eco move in world championship history.\n",
        "Result attributes: eco, eco_name, number_of_occurences\n",
        "Final result will have only two rows"
      ]
    },
    {
      "cell_type": "code",
      "execution_count": 12,
      "metadata": {},
      "outputs": [
        {
          "name": "stdout",
          "output_type": "stream",
          "text": [
            "+---+--------------+--------------------+\n",
            "|eco|      eco_name|number_of_occurences|\n",
            "+---+--------------+--------------------+\n",
            "|C42|Petrov Defense|                  64|\n",
            "|C46| Three Knights|                   1|\n",
            "+---+--------------+--------------------+\n",
            "\n"
          ]
        }
      ],
      "source": [
        "eco = spark.sql(\"(SELECT h.eco, e.eco_name, count(h.eco) as number_of_occurences FROM history_game_info h JOIN eco_codes e ON h.eco = e.eco GROUP BY h.eco, e.eco_name ORDER BY number_of_occurences DESC LIMIT 1) UNION ALL (SELECT h.eco, e.eco_name, count(h.eco) as number_of_occurences FROM history_game_info h JOIN eco_codes e ON h.eco = e.eco GROUP BY h.eco, e.eco_name ORDER BY number_of_occurences ASC LIMIT 1)\")\n",
        "eco.show()\n",
        "eco.toPandas().to_csv(\"df3.csv\")"
      ]
    },
    {
      "cell_type": "markdown",
      "metadata": {},
      "source": [
        "4. Find the eco move with most winnings.\n",
        "Ps. Use this opening move in your next chess game\n",
        "Result attributes: eco, eco_name\n"
      ]
    },
    {
      "cell_type": "code",
      "execution_count": 13,
      "metadata": {},
      "outputs": [
        {
          "name": "stdout",
          "output_type": "stream",
          "text": [
            "+---+-----------------+--------------+\n",
            "|eco|         eco_name|number_of_wins|\n",
            "+---+-----------------+--------------+\n",
            "|B90|Sicilian, Najdorf|            19|\n",
            "+---+-----------------+--------------+\n",
            "\n"
          ]
        }
      ],
      "source": [
        "eco_wins = spark.sql(\"SELECT h.eco, e.eco_name, count(winner) as number_of_wins FROM history_game_info h JOIN eco_codes e ON h.eco = e.eco WHERE h.result = '1-0' GROUP BY h.eco, e.eco_name ORDER BY number_of_wins DESC LIMIT 1\")\n",
        "eco_wins.show()\n",
        "eco_wins.toPandas().to_csv(\"df4.csv\")"
      ]
    },
    {
      "cell_type": "markdown",
      "metadata": {},
      "source": [
        "5. Longest and shortest game ever played in a world championship in terms of move.\n",
        "Chess Funda: \"move\" is completed once both White and Black have played one turn. e.g If a game lasts 10 moves, both White and Black have\n",
        "played 10 moves)\n",
        "Result attributes: game_id, event, tournament_name, number_of_moves\n",
        "Final result will have only two rows"
      ]
    },
    {
      "cell_type": "code",
      "execution_count": 14,
      "metadata": {},
      "outputs": [
        {
          "name": "stdout",
          "output_type": "stream",
          "text": [
            "+--------------------+--------------------+---------------+---------------+\n",
            "|             game_id|               event|tournament_name|number_of_moves|\n",
            "+--------------------+--------------------+---------------+---------------+\n",
            "|4424a0a4-3732-407...|         FIDE WCh KO|  FideChamp2000|            291|\n",
            "|1846cede-0037-4f0...|World Championshi...| WorldChamp1972|              1|\n",
            "+--------------------+--------------------+---------------+---------------+\n",
            "\n"
          ]
        }
      ],
      "source": [
        "longest_shortest = spark.sql(\"(SELECT h.game_id, h.event, h.tournament_name, count(e.move) as number_of_moves FROM history_game_info h \\\n",
        "JOIN history_moves e ON h.game_id = e.game_id GROUP BY h.game_id, h.event, h.tournament_name ORDER BY count(e.move) DESC LIMIT 1)  \\\n",
        "UNION ALL (SELECT h.game_id, h.event, h.tournament_name, count(e.move) FROM history_game_info h \\\n",
        "JOIN history_moves e ON h.game_id = e.game_id \\\n",
        "GROUP BY h.game_id, h.event, h.tournament_name ORDER BY count(e.move) ASC LIMIT 1)\")\n",
        "longest_shortest.show()\n",
        "longest_shortest.toPandas().to_csv(\"df5.csv\")"
      ]
    },
    {
      "cell_type": "markdown",
      "metadata": {},
      "source": [
        "6. Shortest and Longest Draw game ever Played.\n",
        "Result attributes: game_id, event, tournament_name, number_of_moves\n",
        "Final result will have only two rows"
      ]
    },
    {
      "cell_type": "code",
      "execution_count": 15,
      "metadata": {},
      "outputs": [
        {
          "name": "stdout",
          "output_type": "stream",
          "text": [
            "+--------------------+-------------+---------------+---------------+\n",
            "|             game_id|        event|tournament_name|number_of_moves|\n",
            "+--------------------+-------------+---------------+---------------+\n",
            "|88f34084-e4df-490...|  FIDE WCh KO|  FideChamp2002|            258|\n",
            "|a27c2b95-fb62-4b6...|FIDE-Wch k.o.|  FideChamp1998|             12|\n",
            "+--------------------+-------------+---------------+---------------+\n",
            "\n"
          ]
        }
      ],
      "source": [
        "draw = spark.sql(\"(SELECT h.game_id, h.event, h.tournament_name, count(e.move) as number_of_moves FROM history_game_info h JOIN history_moves e ON h.game_id = e.game_id WHERE h.result = '1/2-1/2' GROUP BY h.game_id, h.event, h.tournament_name ORDER BY count(e.move) DESC LIMIT 1) UNION ALL (SELECT h.game_id, h.event, h.tournament_name, count(e.move) as number_of_moves FROM history_game_info h JOIN history_moves e ON h.game_id = e.game_id WHERE h.result = '1/2-1/2' GROUP BY h.game_id, h.event, h.tournament_name ORDER BY count(e.move) ASC LIMIT 1)\")\n",
        "draw.show()\n",
        "draw.toPandas().to_csv(\"df6.csv\")\n",
        "        "
      ]
    },
    {
      "cell_type": "markdown",
      "metadata": {},
      "source": [
        "7. Most and Least rated Player. ------------------\n",
        "Result attributes: player_name, elo\n",
        "Chess Funda: elo is the rating of the player in chess tournament.\n",
        "Final result will have only two rows"
      ]
    },
    {
      "cell_type": "code",
      "execution_count": 16,
      "metadata": {},
      "outputs": [
        {
          "name": "stdout",
          "output_type": "stream",
          "text": [
            "+---------------+----+\n",
            "|    player_name| elo|\n",
            "+---------------+----+\n",
            "|Carlsen, Magnus|2870|\n",
            "|     Ciuksyte,D|2271|\n",
            "+---------------+----+\n",
            "\n"
          ]
        }
      ],
      "source": [
        "rating = spark.sql(\"(SELECT winner as player_name, winner_elo as elo FROM history_game_info WHERE winner_elo IS NOT NULL ORDER BY winner_elo DESC LIMIT 1) UNION ALL (SELECT winner as player_name, winner_elo as elo FROM history_game_info WHERE winner_elo IS NOT NULL ORDER BY winner_elo ASC LIMIT 1)\")\n",
        "rating.show()\n",
        "rating.toPandas().to_csv(\"df7.csv\")"
      ]
    },
    {
      "cell_type": "code",
      "execution_count": 17,
      "metadata": {},
      "outputs": [
        {
          "name": "stdout",
          "output_type": "stream",
          "text": [
            "+------------------+----------------+\n",
            "|       player_name|number_of_losses|\n",
            "+------------------+----------------+\n",
            "|Botvinnik, Mikhail|              15|\n",
            "| Steinitz, William|              14|\n",
            "|         Euwe, Max|              11|\n",
            "+------------------+----------------+\n",
            "\n"
          ]
        }
      ],
      "source": [
        "# 8. 3rd Last Player with most Loss.\n",
        "# Result attributes: player_name\n",
        "# Final result will have only one row\n",
        "\n",
        "#SELECT loser as player_name, count(loser) as number_of_losses FROM history_game_info WHERE result = '0-1' GROUP BY loser ORDER BY number_of_losses DESC\n",
        "\n",
        "third_loss = spark.sql(\"SELECT loser as player_name, count(loser) as number_of_losses FROM history_game_info WHERE result = '0-1' GROUP BY loser ORDER BY number_of_losses DESC LIMIT 3\")\n",
        "third_loss.show()\n",
        "third_loss.toPandas().to_csv(\"df8.csv\")"
      ]
    },
    {
      "cell_type": "markdown",
      "metadata": {},
      "source": [
        "9. How many times players with low rating won matches with their total win Count.\n",
        "Result attributes: player_name, win_count"
      ]
    },
    {
      "cell_type": "code",
      "execution_count": 18,
      "metadata": {},
      "outputs": [
        {
          "name": "stdout",
          "output_type": "stream",
          "text": [
            "+-------------+----------+\n",
            "|       winner|winner_elo|\n",
            "+-------------+----------+\n",
            "|   Ciuksyte,D|      2271|\n",
            "|Baginskaite,C|      2336|\n",
            "+-------------+----------+\n",
            "\n"
          ]
        }
      ],
      "source": [
        "\n",
        "\n",
        "low_rating = spark.sql(\"select winner, winner_elo from history_game_info where winner_elo is not null order by winner_elo asc limit 2\")\n",
        "low_rating.show()\n",
        "low_rating.toPandas().to_csv(\"df9.csv\")"
      ]
    },
    {
      "cell_type": "code",
      "execution_count": 19,
      "metadata": {},
      "outputs": [
        {
          "name": "stdout",
          "output_type": "stream",
          "text": [
            "+--------------------+--------------------+--------------------+----------+\n",
            "|             game_id|         player_name|       move_sequence|move_count|\n",
            "+--------------------+--------------------+--------------------+----------+\n",
            "|0028cc2e-5aaa-464...|                draw|d2d4 g8f6 g1f3 g7...|        33|\n",
            "|00563036-1aa1-42c...|                draw|e2e4 c7c5 c2c3 g8...|        89|\n",
            "|0059d5cb-2af8-48f...|                draw|d2d4 d7d5 c2c4 c7...|        62|\n",
            "|0075db46-38dd-4ce...|                draw|e2e4 e7e6 d2d4 d7...|        76|\n",
            "|007ba523-8617-42b...|Fischer, Robert J...|e2e4 g8f6 e4e5 f6...|       148|\n",
            "|00bdc5cb-22b3-4fc...|       Polgar, Judit|d2d4 g8f6 c2c4 g7...|        82|\n",
            "|00c5cb30-540b-47b...|                draw|d2d4 d7d5 c2c4 e7...|        58|\n",
            "|00cb694b-245d-4a5...|                draw|c2c4 g8f6 b1c3 d7...|        97|\n",
            "|00ff8f8a-33d1-466...| Tkachiev, Vladislav|d2d4 g8f6 g1f3 e7...|        49|\n",
            "|01102870-dbe8-4fd...|         Kotronias,V|d2d4 g8f6 g2g3 g7...|       108|\n",
            "|0128c0c8-d901-4c8...|     Karpov, Anatoly|c2c4 c7c5 g1f3 g8...|       114|\n",
            "|01af512b-f6cd-471...|    Bogoljubow, Efim|d2d4 g8f6 c2c4 e7...|        95|\n",
            "|01b07d18-1151-454...|                draw|d2d4 d7d5 c2c4 c7...|        40|\n",
            "|01be7b78-84e0-4f2...|                draw|e2e4 c7c6 d2d4 d7...|       113|\n",
            "|01c1b015-2cbe-42c...|                draw|c2c4 c7c6 g1f3 d7...|        35|\n",
            "|01d7c507-bc7e-463...|        Morozevich,A|e2e4 c7c5 g1f3 e7...|       106|\n",
            "|01db283e-d9c7-4f1...|                draw|d2d4 d7d5 c2c4 c7...|        80|\n",
            "|01fc6f67-5abb-4dc...|            Adams,Mi|e2e4 c7c5 g1f3 b8...|        65|\n",
            "|0217a4a4-d586-444...|                draw|e2e4 c7c6 d2d4 d7...|       131|\n",
            "|0217acd0-32ac-41f...|                draw|e2e4 e7e6 d2d4 d7...|        81|\n",
            "+--------------------+--------------------+--------------------+----------+\n",
            "only showing top 20 rows\n",
            "\n"
          ]
        }
      ],
      "source": [
        "# 10. Move Sequence for Each Player in a Match.\n",
        "# Result attributes: game_id, player_name, move_sequence, move_count\n",
        "\n",
        "move_sequence = spark.sql(\"SELECT h.game_id, h.winner as player_name, concat_ws(' ', collect_list(e.move)) as move_sequence, count(e.move) as move_count FROM history_game_info h JOIN history_moves e ON h.game_id = e.game_id GROUP BY h.game_id, h.winner ORDER BY h.game_id, h.winner\")\n",
        "move_sequence.show()\n",
        "move_sequence.toPandas().to_csv(\"df10.csv\")"
      ]
    },
    {
      "cell_type": "markdown",
      "metadata": {},
      "source": [
        "12. List All Perfect Tournament with Winner Name.\n",
        "Chess Funda: Perfect Tournament means a player has won all the matches excluding draw matches. e.g Player A has won 5 matches out of 7\n",
        "Matches in tournament where 2 matches are draw and player B has won 0 matches)\n",
        "Result attributes: winner_name, tournament_name"
      ]
    },
    {
      "cell_type": "code",
      "execution_count": 20,
      "metadata": {},
      "outputs": [
        {
          "name": "stdout",
          "output_type": "stream",
          "text": [
            "+--------------------+---------------+------------------+------------------+\n",
            "|             game_id|tournament_name|             event|            winner|\n",
            "+--------------------+---------------+------------------+------------------+\n",
            "|58e83255-93bb-4d5...| WorldChamp2021|          WCh 2021|         Carlsen,M|\n",
            "|8a4ccd8c-d437-429...| WorldChamp2021|          WCh 2021|         Carlsen,M|\n",
            "|55a122db-27d1-495...| WorldChamp2021|          WCh 2021|         Carlsen,M|\n",
            "|c512a953-a341-47c...| WorldChamp2021|          WCh 2021|         Carlsen,M|\n",
            "|8a49457a-7c11-436...| WorldChamp2016|          WCh 2016|  Karjakin, Sergey|\n",
            "|dea461a0-46b1-43e...| WorldChamp2016|          WCh 2016|   Carlsen, Magnus|\n",
            "|96cea9d3-9ded-432...| WorldChamp2016| WCh Rapid TB 2016|   Carlsen, Magnus|\n",
            "|69954db6-8a4e-43d...| WorldChamp2016| WCh Rapid TB 2016|   Carlsen, Magnus|\n",
            "|c6da46fc-4ed5-4e6...| WorldChamp2014|          WCh 2014|   Carlsen, Magnus|\n",
            "|e8e1e55d-e0d2-467...| WorldChamp2014|          WCh 2014|Anand, Viswanathan|\n",
            "|8abc1978-ec05-4b0...| WorldChamp2014|          WCh 2014|   Carlsen, Magnus|\n",
            "|456d0e77-8b7a-447...| WorldChamp2014|          WCh 2014|   Carlsen, Magnus|\n",
            "|8ddb538f-20e7-423...| WorldChamp2013|          WCh 2013|   Carlsen, Magnus|\n",
            "|e92208c7-2a0d-4be...| WorldChamp2013|          WCh 2013|   Carlsen, Magnus|\n",
            "|7a60a3e9-2e4d-48a...| WorldChamp2013|          WCh 2013|   Carlsen, Magnus|\n",
            "|85f912a4-3e0a-4ab...| WorldChamp2012|          WCh 2012|         Gelfand,B|\n",
            "|646031d8-05e7-40b...| WorldChamp2012|          WCh 2012|           Anand,V|\n",
            "|a9e346b5-0066-40c...| WorldChamp2012|WCh Rapid Tiebreak|Anand, Viswanathan|\n",
            "|427df540-ad7e-4c7...| WorldChamp2010|               WCh|         Topalov,V|\n",
            "|600bf35b-8d76-4b2...| WorldChamp2010|               WCh|           Anand,V|\n",
            "+--------------------+---------------+------------------+------------------+\n",
            "only showing top 20 rows\n",
            "\n"
          ]
        }
      ],
      "source": [
        "perfect_tournament = df.select(\"game_id\", \"tournament_name\", \"event\", \"winner\").where((df.winner != \"draw\") & (df.loser != \"draw\"))\n",
        "perfect_tournament.show()\n",
        "perfect_tournament.toPandas().to_csv(\"df12.csv\")"
      ]
    },
    {
      "cell_type": "markdown",
      "metadata": {},
      "source": [
        "13. Player with highest winning ratio.\n",
        "Hint: Winning ratio: (Number of rounds won)/(Number of rounds played)\n",
        "Result attributes: player_name\n",
        "Final result will have only one row"
      ]
    },
    {
      "cell_type": "markdown",
      "metadata": {},
      "source": [
        "14. Player who had given checkmate with Pawn. -------------------\n",
        "Note: Consider all events for this query\n",
        "Result attributes: player_name\n",
        "Final result will have only one row"
      ]
    },
    {
      "cell_type": "code",
      "execution_count": 21,
      "metadata": {},
      "outputs": [
        {
          "name": "stdout",
          "output_type": "stream",
          "text": [
            "+--------------+\n",
            "|        player|\n",
            "+--------------+\n",
            "|Andersson, Ulf|\n",
            "+--------------+\n",
            "\n"
          ]
        }
      ],
      "source": [
        "pawn_checkmate = df1.select(\"player\").where((df1.piece == \"P\") & (df1.is_check_mate == 1))\n",
        "pawn_checkmate.show()\n",
        "pawn_checkmate.toPandas().to_csv(\"df14.csv\")"
      ]
    },
    {
      "cell_type": "markdown",
      "metadata": {},
      "source": [
        "15. List games where player has won game without queen.\n",
        "Result attributes: game_id, event, player_name"
      ]
    },
    {
      "cell_type": "code",
      "execution_count": 22,
      "metadata": {},
      "outputs": [
        {
          "name": "stdout",
          "output_type": "stream",
          "text": [
            "+--------------------+--------------+\n",
            "|             game_id|        player|\n",
            "+--------------------+--------------+\n",
            "|04c81fe4-efd8-456...|    Nakamura,H|\n",
            "|ac45a5ed-172d-4ae...|Andersson, Ulf|\n",
            "+--------------------+--------------+\n",
            "\n"
          ]
        }
      ],
      "source": [
        "no_queen = df1.select(['game_id','player']).where((df1.white_queen_count == 0) &(df1.black_queen_count == 0) & (df1.is_check_mate == 1))\n",
        "no_queen.show()\n",
        "no_queen.toPandas().to_csv(\"df15.csv\")"
      ]
    },
    {
      "cell_type": "code",
      "execution_count": null,
      "metadata": {},
      "outputs": [],
      "source": []
    }
  ],
  "metadata": {
    "colab": {
      "collapsed_sections": [],
      "provenance": []
    },
    "kernelspec": {
      "display_name": "Python 3.10.7 64-bit",
      "language": "python",
      "name": "python3"
    },
    "language_info": {
      "codemirror_mode": {
        "name": "ipython",
        "version": 3
      },
      "file_extension": ".py",
      "mimetype": "text/x-python",
      "name": "python",
      "nbconvert_exporter": "python",
      "pygments_lexer": "ipython3",
      "version": "3.10.7"
    },
    "vscode": {
      "interpreter": {
        "hash": "cab22fcadfb19adb896dda6e7bb1fb5c29bda4cc72d7992e0122f4af813fcc14"
      }
    }
  },
  "nbformat": 4,
  "nbformat_minor": 0
}
